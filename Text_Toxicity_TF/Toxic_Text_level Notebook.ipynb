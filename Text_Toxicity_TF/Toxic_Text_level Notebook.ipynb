{
  "nbformat": 4,
  "nbformat_minor": 0,
  "metadata": {
    "colab": {
      "provenance": [],
      "machine_shape": "hm"
    },
    "kernelspec": {
      "name": "python3",
      "display_name": "Python 3"
    },
    "language_info": {
      "name": "python"
    },
    "accelerator": "GPU",
    "gpuClass": "premium"
  },
  "cells": [
    {
      "cell_type": "markdown",
      "source": [
        "## Building the notebook in Google Colab with tensorflow"
      ],
      "metadata": {
        "id": "VLmZewYr_ooF"
      }
    },
    {
      "cell_type": "code",
      "execution_count": null,
      "metadata": {
        "id": "zkGF4_ZZzEYM",
        "colab": {
          "base_uri": "https://localhost:8080/"
        },
        "outputId": "8a120e58-0bea-4b10-895a-438a050d9f88"
      },
      "outputs": [
        {
          "output_type": "stream",
          "name": "stdout",
          "text": [
            "Looking in indexes: https://pypi.org/simple, https://us-python.pkg.dev/colab-wheels/public/simple/\n",
            "Collecting opendatasets\n",
            "  Downloading opendatasets-0.1.22-py3-none-any.whl (15 kB)\n",
            "Requirement already satisfied: kaggle in /usr/local/lib/python3.8/dist-packages (from opendatasets) (1.5.12)\n",
            "Requirement already satisfied: tqdm in /usr/local/lib/python3.8/dist-packages (from opendatasets) (4.64.1)\n",
            "Requirement already satisfied: click in /usr/local/lib/python3.8/dist-packages (from opendatasets) (7.1.2)\n",
            "Requirement already satisfied: requests in /usr/local/lib/python3.8/dist-packages (from kaggle->opendatasets) (2.23.0)\n",
            "Requirement already satisfied: urllib3 in /usr/local/lib/python3.8/dist-packages (from kaggle->opendatasets) (1.24.3)\n",
            "Requirement already satisfied: python-slugify in /usr/local/lib/python3.8/dist-packages (from kaggle->opendatasets) (7.0.0)\n",
            "Requirement already satisfied: six>=1.10 in /usr/local/lib/python3.8/dist-packages (from kaggle->opendatasets) (1.15.0)\n",
            "Requirement already satisfied: certifi in /usr/local/lib/python3.8/dist-packages (from kaggle->opendatasets) (2022.9.24)\n",
            "Requirement already satisfied: python-dateutil in /usr/local/lib/python3.8/dist-packages (from kaggle->opendatasets) (2.8.2)\n",
            "Requirement already satisfied: text-unidecode>=1.3 in /usr/local/lib/python3.8/dist-packages (from python-slugify->kaggle->opendatasets) (1.3)\n",
            "Requirement already satisfied: idna<3,>=2.5 in /usr/local/lib/python3.8/dist-packages (from requests->kaggle->opendatasets) (2.10)\n",
            "Requirement already satisfied: chardet<4,>=3.0.2 in /usr/local/lib/python3.8/dist-packages (from requests->kaggle->opendatasets) (3.0.4)\n",
            "Installing collected packages: opendatasets\n",
            "Successfully installed opendatasets-0.1.22\n",
            "Looking in indexes: https://pypi.org/simple, https://us-python.pkg.dev/colab-wheels/public/simple/\n",
            "Collecting tensorflow_text\n",
            "  Downloading tensorflow_text-2.11.0-cp38-cp38-manylinux_2_17_x86_64.manylinux2014_x86_64.whl (5.8 MB)\n",
            "\u001b[K     |████████████████████████████████| 5.8 MB 28.2 MB/s \n",
            "\u001b[?25hRequirement already satisfied: tensorflow-hub>=0.8.0 in /usr/local/lib/python3.8/dist-packages (from tensorflow_text) (0.12.0)\n",
            "Collecting tensorflow<2.12,>=2.11.0\n",
            "  Downloading tensorflow-2.11.0-cp38-cp38-manylinux_2_17_x86_64.manylinux2014_x86_64.whl (588.3 MB)\n",
            "\u001b[K     |████████████████████████████████| 588.3 MB 18 kB/s \n",
            "\u001b[?25hRequirement already satisfied: termcolor>=1.1.0 in /usr/local/lib/python3.8/dist-packages (from tensorflow<2.12,>=2.11.0->tensorflow_text) (2.1.1)\n",
            "Collecting keras<2.12,>=2.11.0\n",
            "  Downloading keras-2.11.0-py2.py3-none-any.whl (1.7 MB)\n",
            "\u001b[K     |████████████████████████████████| 1.7 MB 83.3 MB/s \n",
            "\u001b[?25hRequirement already satisfied: setuptools in /usr/local/lib/python3.8/dist-packages (from tensorflow<2.12,>=2.11.0->tensorflow_text) (57.4.0)\n",
            "Requirement already satisfied: tensorflow-io-gcs-filesystem>=0.23.1 in /usr/local/lib/python3.8/dist-packages (from tensorflow<2.12,>=2.11.0->tensorflow_text) (0.28.0)\n",
            "Requirement already satisfied: numpy>=1.20 in /usr/local/lib/python3.8/dist-packages (from tensorflow<2.12,>=2.11.0->tensorflow_text) (1.21.6)\n",
            "Requirement already satisfied: google-pasta>=0.1.1 in /usr/local/lib/python3.8/dist-packages (from tensorflow<2.12,>=2.11.0->tensorflow_text) (0.2.0)\n",
            "Requirement already satisfied: opt-einsum>=2.3.2 in /usr/local/lib/python3.8/dist-packages (from tensorflow<2.12,>=2.11.0->tensorflow_text) (3.3.0)\n",
            "Collecting tensorflow-estimator<2.12,>=2.11.0\n",
            "  Downloading tensorflow_estimator-2.11.0-py2.py3-none-any.whl (439 kB)\n",
            "\u001b[K     |████████████████████████████████| 439 kB 91.9 MB/s \n",
            "\u001b[?25hRequirement already satisfied: wrapt>=1.11.0 in /usr/local/lib/python3.8/dist-packages (from tensorflow<2.12,>=2.11.0->tensorflow_text) (1.14.1)\n",
            "Requirement already satisfied: grpcio<2.0,>=1.24.3 in /usr/local/lib/python3.8/dist-packages (from tensorflow<2.12,>=2.11.0->tensorflow_text) (1.50.0)\n",
            "Requirement already satisfied: protobuf<3.20,>=3.9.2 in /usr/local/lib/python3.8/dist-packages (from tensorflow<2.12,>=2.11.0->tensorflow_text) (3.19.6)\n",
            "Requirement already satisfied: astunparse>=1.6.0 in /usr/local/lib/python3.8/dist-packages (from tensorflow<2.12,>=2.11.0->tensorflow_text) (1.6.3)\n",
            "Requirement already satisfied: typing-extensions>=3.6.6 in /usr/local/lib/python3.8/dist-packages (from tensorflow<2.12,>=2.11.0->tensorflow_text) (4.1.1)\n",
            "Requirement already satisfied: h5py>=2.9.0 in /usr/local/lib/python3.8/dist-packages (from tensorflow<2.12,>=2.11.0->tensorflow_text) (3.1.0)\n",
            "Requirement already satisfied: packaging in /usr/local/lib/python3.8/dist-packages (from tensorflow<2.12,>=2.11.0->tensorflow_text) (21.3)\n",
            "Collecting tensorboard<2.12,>=2.11\n",
            "  Downloading tensorboard-2.11.0-py3-none-any.whl (6.0 MB)\n",
            "\u001b[K     |████████████████████████████████| 6.0 MB 85.1 MB/s \n",
            "\u001b[?25hRequirement already satisfied: six>=1.12.0 in /usr/local/lib/python3.8/dist-packages (from tensorflow<2.12,>=2.11.0->tensorflow_text) (1.15.0)\n",
            "Collecting flatbuffers>=2.0\n",
            "  Downloading flatbuffers-22.11.23-py2.py3-none-any.whl (26 kB)\n",
            "Requirement already satisfied: libclang>=13.0.0 in /usr/local/lib/python3.8/dist-packages (from tensorflow<2.12,>=2.11.0->tensorflow_text) (14.0.6)\n",
            "Requirement already satisfied: absl-py>=1.0.0 in /usr/local/lib/python3.8/dist-packages (from tensorflow<2.12,>=2.11.0->tensorflow_text) (1.3.0)\n",
            "Requirement already satisfied: gast<=0.4.0,>=0.2.1 in /usr/local/lib/python3.8/dist-packages (from tensorflow<2.12,>=2.11.0->tensorflow_text) (0.4.0)\n",
            "Requirement already satisfied: wheel<1.0,>=0.23.0 in /usr/local/lib/python3.8/dist-packages (from astunparse>=1.6.0->tensorflow<2.12,>=2.11.0->tensorflow_text) (0.38.4)\n",
            "Requirement already satisfied: google-auth-oauthlib<0.5,>=0.4.1 in /usr/local/lib/python3.8/dist-packages (from tensorboard<2.12,>=2.11->tensorflow<2.12,>=2.11.0->tensorflow_text) (0.4.6)\n",
            "Requirement already satisfied: requests<3,>=2.21.0 in /usr/local/lib/python3.8/dist-packages (from tensorboard<2.12,>=2.11->tensorflow<2.12,>=2.11.0->tensorflow_text) (2.23.0)\n",
            "Requirement already satisfied: google-auth<3,>=1.6.3 in /usr/local/lib/python3.8/dist-packages (from tensorboard<2.12,>=2.11->tensorflow<2.12,>=2.11.0->tensorflow_text) (2.14.1)\n",
            "Requirement already satisfied: werkzeug>=1.0.1 in /usr/local/lib/python3.8/dist-packages (from tensorboard<2.12,>=2.11->tensorflow<2.12,>=2.11.0->tensorflow_text) (1.0.1)\n",
            "Requirement already satisfied: tensorboard-data-server<0.7.0,>=0.6.0 in /usr/local/lib/python3.8/dist-packages (from tensorboard<2.12,>=2.11->tensorflow<2.12,>=2.11.0->tensorflow_text) (0.6.1)\n",
            "Requirement already satisfied: markdown>=2.6.8 in /usr/local/lib/python3.8/dist-packages (from tensorboard<2.12,>=2.11->tensorflow<2.12,>=2.11.0->tensorflow_text) (3.4.1)\n",
            "Requirement already satisfied: tensorboard-plugin-wit>=1.6.0 in /usr/local/lib/python3.8/dist-packages (from tensorboard<2.12,>=2.11->tensorflow<2.12,>=2.11.0->tensorflow_text) (1.8.1)\n",
            "Requirement already satisfied: rsa<5,>=3.1.4 in /usr/local/lib/python3.8/dist-packages (from google-auth<3,>=1.6.3->tensorboard<2.12,>=2.11->tensorflow<2.12,>=2.11.0->tensorflow_text) (4.9)\n",
            "Requirement already satisfied: pyasn1-modules>=0.2.1 in /usr/local/lib/python3.8/dist-packages (from google-auth<3,>=1.6.3->tensorboard<2.12,>=2.11->tensorflow<2.12,>=2.11.0->tensorflow_text) (0.2.8)\n",
            "Requirement already satisfied: cachetools<6.0,>=2.0.0 in /usr/local/lib/python3.8/dist-packages (from google-auth<3,>=1.6.3->tensorboard<2.12,>=2.11->tensorflow<2.12,>=2.11.0->tensorflow_text) (5.2.0)\n",
            "Requirement already satisfied: requests-oauthlib>=0.7.0 in /usr/local/lib/python3.8/dist-packages (from google-auth-oauthlib<0.5,>=0.4.1->tensorboard<2.12,>=2.11->tensorflow<2.12,>=2.11.0->tensorflow_text) (1.3.1)\n",
            "Requirement already satisfied: importlib-metadata>=4.4 in /usr/local/lib/python3.8/dist-packages (from markdown>=2.6.8->tensorboard<2.12,>=2.11->tensorflow<2.12,>=2.11.0->tensorflow_text) (4.13.0)\n",
            "Requirement already satisfied: zipp>=0.5 in /usr/local/lib/python3.8/dist-packages (from importlib-metadata>=4.4->markdown>=2.6.8->tensorboard<2.12,>=2.11->tensorflow<2.12,>=2.11.0->tensorflow_text) (3.10.0)\n",
            "Requirement already satisfied: pyasn1<0.5.0,>=0.4.6 in /usr/local/lib/python3.8/dist-packages (from pyasn1-modules>=0.2.1->google-auth<3,>=1.6.3->tensorboard<2.12,>=2.11->tensorflow<2.12,>=2.11.0->tensorflow_text) (0.4.8)\n",
            "Requirement already satisfied: idna<3,>=2.5 in /usr/local/lib/python3.8/dist-packages (from requests<3,>=2.21.0->tensorboard<2.12,>=2.11->tensorflow<2.12,>=2.11.0->tensorflow_text) (2.10)\n",
            "Requirement already satisfied: urllib3!=1.25.0,!=1.25.1,<1.26,>=1.21.1 in /usr/local/lib/python3.8/dist-packages (from requests<3,>=2.21.0->tensorboard<2.12,>=2.11->tensorflow<2.12,>=2.11.0->tensorflow_text) (1.24.3)\n",
            "Requirement already satisfied: chardet<4,>=3.0.2 in /usr/local/lib/python3.8/dist-packages (from requests<3,>=2.21.0->tensorboard<2.12,>=2.11->tensorflow<2.12,>=2.11.0->tensorflow_text) (3.0.4)\n",
            "Requirement already satisfied: certifi>=2017.4.17 in /usr/local/lib/python3.8/dist-packages (from requests<3,>=2.21.0->tensorboard<2.12,>=2.11->tensorflow<2.12,>=2.11.0->tensorflow_text) (2022.9.24)\n",
            "Requirement already satisfied: oauthlib>=3.0.0 in /usr/local/lib/python3.8/dist-packages (from requests-oauthlib>=0.7.0->google-auth-oauthlib<0.5,>=0.4.1->tensorboard<2.12,>=2.11->tensorflow<2.12,>=2.11.0->tensorflow_text) (3.2.2)\n",
            "Requirement already satisfied: pyparsing!=3.0.5,>=2.0.2 in /usr/local/lib/python3.8/dist-packages (from packaging->tensorflow<2.12,>=2.11.0->tensorflow_text) (3.0.9)\n",
            "Installing collected packages: tensorflow-estimator, tensorboard, keras, flatbuffers, tensorflow, tensorflow-text\n",
            "  Attempting uninstall: tensorflow-estimator\n",
            "    Found existing installation: tensorflow-estimator 2.9.0\n",
            "    Uninstalling tensorflow-estimator-2.9.0:\n",
            "      Successfully uninstalled tensorflow-estimator-2.9.0\n",
            "  Attempting uninstall: tensorboard\n",
            "    Found existing installation: tensorboard 2.9.1\n",
            "    Uninstalling tensorboard-2.9.1:\n",
            "      Successfully uninstalled tensorboard-2.9.1\n",
            "  Attempting uninstall: keras\n",
            "    Found existing installation: keras 2.9.0\n",
            "    Uninstalling keras-2.9.0:\n",
            "      Successfully uninstalled keras-2.9.0\n",
            "  Attempting uninstall: flatbuffers\n",
            "    Found existing installation: flatbuffers 1.12\n",
            "    Uninstalling flatbuffers-1.12:\n",
            "      Successfully uninstalled flatbuffers-1.12\n",
            "  Attempting uninstall: tensorflow\n",
            "    Found existing installation: tensorflow 2.9.2\n",
            "    Uninstalling tensorflow-2.9.2:\n",
            "      Successfully uninstalled tensorflow-2.9.2\n",
            "Successfully installed flatbuffers-22.11.23 keras-2.11.0 tensorboard-2.11.0 tensorflow-2.11.0 tensorflow-estimator-2.11.0 tensorflow-text-2.11.0\n"
          ]
        }
      ],
      "source": [
        "!pip install opendatasets          \n",
        "!pip install tensorflow_text              "
      ]
    },
    {
      "cell_type": "code",
      "source": [
        "import opendatasets as od\n",
        "import pandas as pd\n",
        "import tensorflow as tf\n",
        "from tensorflow.keras.preprocessing.text import Tokenizer\n",
        "from tensorflow.keras.preprocessing.sequence import pad_sequences\n",
        "from tensorflow.keras import backend as K\n",
        "from tensorflow.keras import Sequential\n",
        "from tensorflow.keras.layers import Dense, Dropout, Embedding, Flatten, LSTM\n",
        "from tensorflow.keras.optimizers import Adam\n",
        "from sklearn.metrics import classification_report\n",
        "import tensorflow_hub as hub #1\n",
        "import tensorflow_text as text #2 both are important for the hub\n",
        "from sklearn.model_selection import train_test_split as tts\n",
        "from sklearn.metrics import mean_absolute_error, mean_squared_error\n",
        "import numpy as np\n",
        "import random\n",
        "from datetime import datetime\n",
        "import os"
      ],
      "metadata": {
        "id": "ym7BOus5zKmh"
      },
      "execution_count": null,
      "outputs": []
    },
    {
      "cell_type": "code",
      "source": [
        "od.download(\"https://www.kaggle.com/datasets/nkitgupta/jigsaw-regression-based-data\")"
      ],
      "metadata": {
        "colab": {
          "base_uri": "https://localhost:8080/"
        },
        "id": "3lJFjIgjzMVK",
        "outputId": "c7de28b6-6634-4376-cdb5-ff76e957f20a"
      },
      "execution_count": null,
      "outputs": [
        {
          "output_type": "stream",
          "name": "stdout",
          "text": [
            "Please provide your Kaggle credentials to download this dataset. Learn more: http://bit.ly/kaggle-creds\n",
            "Your Kaggle username: omaratef3221\n",
            "Your Kaggle Key: ··········\n",
            "Downloading jigsaw-regression-based-data.zip to ./jigsaw-regression-based-data\n"
          ]
        },
        {
          "output_type": "stream",
          "name": "stderr",
          "text": [
            "100%|██████████| 2.67G/2.67G [02:15<00:00, 21.1MB/s]\n"
          ]
        },
        {
          "output_type": "stream",
          "name": "stdout",
          "text": [
            "\n"
          ]
        }
      ]
    },
    {
      "cell_type": "code",
      "source": [
        "data = pd.read_csv(\"/content/jigsaw-regression-based-data/train_data_version3.csv\")"
      ],
      "metadata": {
        "id": "ack50b59zb5-"
      },
      "execution_count": null,
      "outputs": []
    },
    {
      "cell_type": "code",
      "source": [
        "data.head()"
      ],
      "metadata": {
        "colab": {
          "base_uri": "https://localhost:8080/",
          "height": 206
        },
        "id": "w-SbITu30Wnq",
        "outputId": "fbc08010-3517-4220-a830-497c6144e886"
      },
      "execution_count": null,
      "outputs": [
        {
          "output_type": "execute_result",
          "data": {
            "text/plain": [
              "                                                text     y\n",
              "0  oh why dear johnny boy part one again do you w...  2.08\n",
              "1                            savant13 is a fat shite  3.58\n",
              "2  i am english i am i do not want to get blocked...  0.80\n",
              "3  and why the fuck should i care g e t r i d o f...  4.58\n",
              "4  yo dear sir james paul you a fruity ass nigga ...  2.08"
            ],
            "text/html": [
              "\n",
              "  <div id=\"df-8cd611e1-cb73-4f7e-abfa-e29238802410\">\n",
              "    <div class=\"colab-df-container\">\n",
              "      <div>\n",
              "<style scoped>\n",
              "    .dataframe tbody tr th:only-of-type {\n",
              "        vertical-align: middle;\n",
              "    }\n",
              "\n",
              "    .dataframe tbody tr th {\n",
              "        vertical-align: top;\n",
              "    }\n",
              "\n",
              "    .dataframe thead th {\n",
              "        text-align: right;\n",
              "    }\n",
              "</style>\n",
              "<table border=\"1\" class=\"dataframe\">\n",
              "  <thead>\n",
              "    <tr style=\"text-align: right;\">\n",
              "      <th></th>\n",
              "      <th>text</th>\n",
              "      <th>y</th>\n",
              "    </tr>\n",
              "  </thead>\n",
              "  <tbody>\n",
              "    <tr>\n",
              "      <th>0</th>\n",
              "      <td>oh why dear johnny boy part one again do you w...</td>\n",
              "      <td>2.08</td>\n",
              "    </tr>\n",
              "    <tr>\n",
              "      <th>1</th>\n",
              "      <td>savant13 is a fat shite</td>\n",
              "      <td>3.58</td>\n",
              "    </tr>\n",
              "    <tr>\n",
              "      <th>2</th>\n",
              "      <td>i am english i am i do not want to get blocked...</td>\n",
              "      <td>0.80</td>\n",
              "    </tr>\n",
              "    <tr>\n",
              "      <th>3</th>\n",
              "      <td>and why the fuck should i care g e t r i d o f...</td>\n",
              "      <td>4.58</td>\n",
              "    </tr>\n",
              "    <tr>\n",
              "      <th>4</th>\n",
              "      <td>yo dear sir james paul you a fruity ass nigga ...</td>\n",
              "      <td>2.08</td>\n",
              "    </tr>\n",
              "  </tbody>\n",
              "</table>\n",
              "</div>\n",
              "      <button class=\"colab-df-convert\" onclick=\"convertToInteractive('df-8cd611e1-cb73-4f7e-abfa-e29238802410')\"\n",
              "              title=\"Convert this dataframe to an interactive table.\"\n",
              "              style=\"display:none;\">\n",
              "        \n",
              "  <svg xmlns=\"http://www.w3.org/2000/svg\" height=\"24px\"viewBox=\"0 0 24 24\"\n",
              "       width=\"24px\">\n",
              "    <path d=\"M0 0h24v24H0V0z\" fill=\"none\"/>\n",
              "    <path d=\"M18.56 5.44l.94 2.06.94-2.06 2.06-.94-2.06-.94-.94-2.06-.94 2.06-2.06.94zm-11 1L8.5 8.5l.94-2.06 2.06-.94-2.06-.94L8.5 2.5l-.94 2.06-2.06.94zm10 10l.94 2.06.94-2.06 2.06-.94-2.06-.94-.94-2.06-.94 2.06-2.06.94z\"/><path d=\"M17.41 7.96l-1.37-1.37c-.4-.4-.92-.59-1.43-.59-.52 0-1.04.2-1.43.59L10.3 9.45l-7.72 7.72c-.78.78-.78 2.05 0 2.83L4 21.41c.39.39.9.59 1.41.59.51 0 1.02-.2 1.41-.59l7.78-7.78 2.81-2.81c.8-.78.8-2.07 0-2.86zM5.41 20L4 18.59l7.72-7.72 1.47 1.35L5.41 20z\"/>\n",
              "  </svg>\n",
              "      </button>\n",
              "      \n",
              "  <style>\n",
              "    .colab-df-container {\n",
              "      display:flex;\n",
              "      flex-wrap:wrap;\n",
              "      gap: 12px;\n",
              "    }\n",
              "\n",
              "    .colab-df-convert {\n",
              "      background-color: #E8F0FE;\n",
              "      border: none;\n",
              "      border-radius: 50%;\n",
              "      cursor: pointer;\n",
              "      display: none;\n",
              "      fill: #1967D2;\n",
              "      height: 32px;\n",
              "      padding: 0 0 0 0;\n",
              "      width: 32px;\n",
              "    }\n",
              "\n",
              "    .colab-df-convert:hover {\n",
              "      background-color: #E2EBFA;\n",
              "      box-shadow: 0px 1px 2px rgba(60, 64, 67, 0.3), 0px 1px 3px 1px rgba(60, 64, 67, 0.15);\n",
              "      fill: #174EA6;\n",
              "    }\n",
              "\n",
              "    [theme=dark] .colab-df-convert {\n",
              "      background-color: #3B4455;\n",
              "      fill: #D2E3FC;\n",
              "    }\n",
              "\n",
              "    [theme=dark] .colab-df-convert:hover {\n",
              "      background-color: #434B5C;\n",
              "      box-shadow: 0px 1px 3px 1px rgba(0, 0, 0, 0.15);\n",
              "      filter: drop-shadow(0px 1px 2px rgba(0, 0, 0, 0.3));\n",
              "      fill: #FFFFFF;\n",
              "    }\n",
              "  </style>\n",
              "\n",
              "      <script>\n",
              "        const buttonEl =\n",
              "          document.querySelector('#df-8cd611e1-cb73-4f7e-abfa-e29238802410 button.colab-df-convert');\n",
              "        buttonEl.style.display =\n",
              "          google.colab.kernel.accessAllowed ? 'block' : 'none';\n",
              "\n",
              "        async function convertToInteractive(key) {\n",
              "          const element = document.querySelector('#df-8cd611e1-cb73-4f7e-abfa-e29238802410');\n",
              "          const dataTable =\n",
              "            await google.colab.kernel.invokeFunction('convertToInteractive',\n",
              "                                                     [key], {});\n",
              "          if (!dataTable) return;\n",
              "\n",
              "          const docLinkHtml = 'Like what you see? Visit the ' +\n",
              "            '<a target=\"_blank\" href=https://colab.research.google.com/notebooks/data_table.ipynb>data table notebook</a>'\n",
              "            + ' to learn more about interactive tables.';\n",
              "          element.innerHTML = '';\n",
              "          dataTable['output_type'] = 'display_data';\n",
              "          await google.colab.output.renderOutput(dataTable, element);\n",
              "          const docLink = document.createElement('div');\n",
              "          docLink.innerHTML = docLinkHtml;\n",
              "          element.appendChild(docLink);\n",
              "        }\n",
              "      </script>\n",
              "    </div>\n",
              "  </div>\n",
              "  "
            ]
          },
          "metadata": {},
          "execution_count": 7
        }
      ]
    },
    {
      "cell_type": "code",
      "source": [
        "data[\"text\"] = data[\"text\"].astype(str)"
      ],
      "metadata": {
        "id": "wRD7WMbn0Xxc"
      },
      "execution_count": null,
      "outputs": []
    },
    {
      "cell_type": "code",
      "source": [
        "x = data.iloc[:,0]\n",
        "y = data.iloc[:,1]\n",
        "x_train, x_test, y_train, y_test = tts(x, y, test_size = 0.2) #Train test split"
      ],
      "metadata": {
        "id": "VWfUeYkd0nb0"
      },
      "execution_count": null,
      "outputs": []
    },
    {
      "cell_type": "code",
      "source": [
        "def rmse(y_true, y_pred):\n",
        "    return K.sqrt(K.mean(K.square(y_pred - y_true)))"
      ],
      "metadata": {
        "id": "CnFm9R3_p-Xl"
      },
      "execution_count": null,
      "outputs": []
    },
    {
      "cell_type": "code",
      "source": [
        "bert_preprocess = hub.KerasLayer(\"https://tfhub.dev/tensorflow/bert_en_uncased_preprocess/3\")  ## Preprocess padding and tokenizer\n",
        "bert_encoder = hub.KerasLayer(\"https://tfhub.dev/tensorflow/bert_en_uncased_L-12_H-768_A-12/4\")  ## Model\n",
        "# Bert layers\n",
        "text_input = tf.keras.layers.Input(shape=(), dtype=tf.string, name='text') #create input layer\n",
        "\n",
        "preprocessed_text = bert_preprocess(text_input)\n",
        "\n",
        "outputs = bert_encoder(preprocessed_text)\n",
        "          \n",
        "l = tf.keras.layers.Dropout(0.1, name=\"dropout\", )(inputs = outputs['pooled_output'])\n",
        "l = tf.keras.layers.Dense(1, name=\"output\")(l)\n",
        "model = tf.keras.Model(inputs=[text_input], outputs = [l])\n",
        "\n"
      ],
      "metadata": {
        "id": "0F2LH-DWp_aN",
        "colab": {
          "base_uri": "https://localhost:8080/"
        },
        "outputId": "1f0d03cc-226f-4871-842d-a2098ff93a6a"
      },
      "execution_count": null,
      "outputs": [
        {
          "output_type": "stream",
          "name": "stderr",
          "text": [
            "WARNING:tensorflow:Please fix your imports. Module tensorflow.python.training.tracking.data_structures has been moved to tensorflow.python.trackable.data_structures. The old module will be deleted in version 2.11.\n",
            "WARNING:tensorflow:From /usr/local/lib/python3.8/dist-packages/tensorflow/python/autograph/pyct/static_analysis/liveness.py:83: Analyzer.lamba_check (from tensorflow.python.autograph.pyct.static_analysis.liveness) is deprecated and will be removed after 2023-09-23.\n",
            "Instructions for updating:\n",
            "Lambda fuctions will be no more assumed to be used in the statement where they are used, or at least in the same block. https://github.com/tensorflow/tensorflow/issues/56089\n"
          ]
        }
      ]
    },
    {
      "cell_type": "code",
      "source": [
        "model.summary()"
      ],
      "metadata": {
        "colab": {
          "base_uri": "https://localhost:8080/"
        },
        "id": "YsD07hjkqEZC",
        "outputId": "e031642c-458e-4b62-d6e7-6949aa45ac39"
      },
      "execution_count": null,
      "outputs": [
        {
          "output_type": "stream",
          "name": "stdout",
          "text": [
            "Model: \"model\"\n",
            "__________________________________________________________________________________________________\n",
            " Layer (type)                   Output Shape         Param #     Connected to                     \n",
            "==================================================================================================\n",
            " text (InputLayer)              [(None,)]            0           []                               \n",
            "                                                                                                  \n",
            " keras_layer (KerasLayer)       {'input_mask': (Non  0           ['text[0][0]']                   \n",
            "                                e, 128),                                                          \n",
            "                                 'input_word_ids':                                                \n",
            "                                (None, 128),                                                      \n",
            "                                 'input_type_ids':                                                \n",
            "                                (None, 128)}                                                      \n",
            "                                                                                                  \n",
            " keras_layer_1 (KerasLayer)     {'encoder_outputs':  109482241   ['keras_layer[0][0]',            \n",
            "                                 [(None, 128, 768),               'keras_layer[0][1]',            \n",
            "                                 (None, 128, 768),                'keras_layer[0][2]']            \n",
            "                                 (None, 128, 768),                                                \n",
            "                                 (None, 128, 768),                                                \n",
            "                                 (None, 128, 768),                                                \n",
            "                                 (None, 128, 768),                                                \n",
            "                                 (None, 128, 768),                                                \n",
            "                                 (None, 128, 768),                                                \n",
            "                                 (None, 128, 768),                                                \n",
            "                                 (None, 128, 768),                                                \n",
            "                                 (None, 128, 768),                                                \n",
            "                                 (None, 128, 768)],                                               \n",
            "                                 'pooled_output': (                                               \n",
            "                                None, 768),                                                       \n",
            "                                 'default': (None,                                                \n",
            "                                768),                                                             \n",
            "                                 'sequence_output':                                               \n",
            "                                 (None, 128, 768)}                                                \n",
            "                                                                                                  \n",
            " dropout (Dropout)              (None, 768)          0           ['keras_layer_1[0][13]']         \n",
            "                                                                                                  \n",
            " output (Dense)                 (None, 1)            769         ['dropout[0][0]']                \n",
            "                                                                                                  \n",
            "==================================================================================================\n",
            "Total params: 109,483,010\n",
            "Trainable params: 769\n",
            "Non-trainable params: 109,482,241\n",
            "__________________________________________________________________________________________________\n"
          ]
        }
      ]
    },
    {
      "cell_type": "code",
      "source": [
        "model.compile(optimizer=tf.keras.optimizers.Adam(learning_rate=1e-4), loss=rmse, metrics=['mae', 'mse', rmse])\n",
        "model.fit(x_train, y_train, epochs=100, batch_size = 32)"
      ],
      "metadata": {
        "id": "9UL-OvawqGe-",
        "colab": {
          "base_uri": "https://localhost:8080/"
        },
        "outputId": "51e7a5ff-08c1-4f6f-a031-1b3a8b476123"
      },
      "execution_count": null,
      "outputs": [
        {
          "output_type": "stream",
          "name": "stdout",
          "text": [
            "Epoch 1/100\n",
            "1200/1200 [==============================] - 96s 69ms/step - loss: 0.9541 - mae: 0.6633 - mse: 0.9867 - rmse: 0.9542\n",
            "Epoch 2/100\n",
            "1200/1200 [==============================] - 83s 69ms/step - loss: 0.8611 - mae: 0.5769 - mse: 0.8051 - rmse: 0.8612\n",
            "Epoch 3/100\n",
            "1200/1200 [==============================] - 83s 69ms/step - loss: 0.8287 - mae: 0.5547 - mse: 0.7446 - rmse: 0.8287\n",
            "Epoch 4/100\n",
            "1200/1200 [==============================] - 83s 69ms/step - loss: 0.8147 - mae: 0.5458 - mse: 0.7209 - rmse: 0.8146\n",
            "Epoch 5/100\n",
            "1200/1200 [==============================] - 82s 69ms/step - loss: 0.8008 - mae: 0.5374 - mse: 0.7001 - rmse: 0.8007\n",
            "Epoch 6/100\n",
            "1200/1200 [==============================] - 83s 69ms/step - loss: 0.7967 - mae: 0.5334 - mse: 0.6869 - rmse: 0.7966\n",
            "Epoch 7/100\n",
            "1200/1200 [==============================] - 83s 69ms/step - loss: 0.7930 - mae: 0.5304 - mse: 0.6835 - rmse: 0.7931\n",
            "Epoch 8/100\n",
            "1200/1200 [==============================] - 82s 68ms/step - loss: 0.7855 - mae: 0.5261 - mse: 0.6742 - rmse: 0.7855\n",
            "Epoch 9/100\n",
            "1200/1200 [==============================] - 83s 69ms/step - loss: 0.7808 - mae: 0.5208 - mse: 0.6644 - rmse: 0.7807\n",
            "Epoch 10/100\n",
            "1200/1200 [==============================] - 83s 69ms/step - loss: 0.7796 - mae: 0.5180 - mse: 0.6654 - rmse: 0.7796\n",
            "Epoch 11/100\n",
            "1200/1200 [==============================] - 83s 69ms/step - loss: 0.7768 - mae: 0.5172 - mse: 0.6609 - rmse: 0.7768\n",
            "Epoch 12/100\n",
            "1200/1200 [==============================] - 83s 69ms/step - loss: 0.7730 - mae: 0.5126 - mse: 0.6539 - rmse: 0.7729\n",
            "Epoch 13/100\n",
            "1200/1200 [==============================] - 83s 69ms/step - loss: 0.7711 - mae: 0.5116 - mse: 0.6509 - rmse: 0.7710\n",
            "Epoch 14/100\n",
            "1200/1200 [==============================] - 83s 69ms/step - loss: 0.7690 - mae: 0.5099 - mse: 0.6455 - rmse: 0.7690\n",
            "Epoch 15/100\n",
            "1200/1200 [==============================] - 83s 69ms/step - loss: 0.7687 - mae: 0.5085 - mse: 0.6442 - rmse: 0.7687\n",
            "Epoch 16/100\n",
            "1200/1200 [==============================] - 83s 69ms/step - loss: 0.7651 - mae: 0.5051 - mse: 0.6405 - rmse: 0.7651\n",
            "Epoch 17/100\n",
            "1200/1200 [==============================] - 83s 69ms/step - loss: 0.7626 - mae: 0.5044 - mse: 0.6372 - rmse: 0.7627\n",
            "Epoch 18/100\n",
            "1200/1200 [==============================] - 83s 69ms/step - loss: 0.7628 - mae: 0.5028 - mse: 0.6354 - rmse: 0.7627\n",
            "Epoch 19/100\n",
            "1200/1200 [==============================] - 83s 69ms/step - loss: 0.7607 - mae: 0.5029 - mse: 0.6365 - rmse: 0.7607\n",
            "Epoch 20/100\n",
            "1200/1200 [==============================] - 83s 69ms/step - loss: 0.7613 - mae: 0.5022 - mse: 0.6359 - rmse: 0.7612\n",
            "Epoch 21/100\n",
            "1200/1200 [==============================] - 83s 69ms/step - loss: 0.7594 - mae: 0.4996 - mse: 0.6318 - rmse: 0.7594\n",
            "Epoch 22/100\n",
            "1200/1200 [==============================] - 83s 69ms/step - loss: 0.7582 - mae: 0.5007 - mse: 0.6323 - rmse: 0.7582\n",
            "Epoch 23/100\n",
            "1200/1200 [==============================] - 83s 69ms/step - loss: 0.7609 - mae: 0.5002 - mse: 0.6308 - rmse: 0.7609\n",
            "Epoch 24/100\n",
            "1200/1200 [==============================] - 83s 69ms/step - loss: 0.7566 - mae: 0.4976 - mse: 0.6277 - rmse: 0.7566\n",
            "Epoch 25/100\n",
            "1200/1200 [==============================] - 83s 69ms/step - loss: 0.7587 - mae: 0.4985 - mse: 0.6288 - rmse: 0.7586\n",
            "Epoch 26/100\n",
            "1200/1200 [==============================] - 83s 69ms/step - loss: 0.7574 - mae: 0.4965 - mse: 0.6260 - rmse: 0.7574\n",
            "Epoch 27/100\n",
            "1200/1200 [==============================] - 83s 69ms/step - loss: 0.7541 - mae: 0.4956 - mse: 0.6242 - rmse: 0.7541\n",
            "Epoch 28/100\n",
            "1200/1200 [==============================] - 83s 69ms/step - loss: 0.7560 - mae: 0.4970 - mse: 0.6262 - rmse: 0.7561\n",
            "Epoch 29/100\n",
            "1200/1200 [==============================] - 83s 70ms/step - loss: 0.7554 - mae: 0.4967 - mse: 0.6265 - rmse: 0.7553\n",
            "Epoch 30/100\n",
            "1200/1200 [==============================] - 83s 69ms/step - loss: 0.7547 - mae: 0.4968 - mse: 0.6250 - rmse: 0.7548\n",
            "Epoch 31/100\n",
            "1200/1200 [==============================] - 83s 69ms/step - loss: 0.7549 - mae: 0.4954 - mse: 0.6244 - rmse: 0.7548\n",
            "Epoch 32/100\n",
            "1200/1200 [==============================] - 83s 69ms/step - loss: 0.7539 - mae: 0.4954 - mse: 0.6225 - rmse: 0.7540\n",
            "Epoch 33/100\n",
            "1200/1200 [==============================] - 83s 70ms/step - loss: 0.7562 - mae: 0.4953 - mse: 0.6259 - rmse: 0.7562\n",
            "Epoch 34/100\n",
            "1200/1200 [==============================] - 83s 69ms/step - loss: 0.7540 - mae: 0.4954 - mse: 0.6239 - rmse: 0.7539\n",
            "Epoch 35/100\n",
            "1200/1200 [==============================] - 83s 69ms/step - loss: 0.7527 - mae: 0.4959 - mse: 0.6225 - rmse: 0.7526\n",
            "Epoch 36/100\n",
            "1200/1200 [==============================] - 83s 69ms/step - loss: 0.7544 - mae: 0.4953 - mse: 0.6208 - rmse: 0.7544\n",
            "Epoch 37/100\n",
            "1200/1200 [==============================] - 83s 70ms/step - loss: 0.7554 - mae: 0.4957 - mse: 0.6242 - rmse: 0.7554\n",
            "Epoch 38/100\n",
            "1200/1200 [==============================] - 83s 69ms/step - loss: 0.7544 - mae: 0.4949 - mse: 0.6225 - rmse: 0.7543\n",
            "Epoch 39/100\n",
            "1200/1200 [==============================] - 84s 70ms/step - loss: 0.7538 - mae: 0.4943 - mse: 0.6216 - rmse: 0.7538\n",
            "Epoch 40/100\n",
            "1200/1200 [==============================] - 83s 69ms/step - loss: 0.7517 - mae: 0.4945 - mse: 0.6204 - rmse: 0.7518\n",
            "Epoch 41/100\n",
            "1200/1200 [==============================] - 83s 69ms/step - loss: 0.7510 - mae: 0.4946 - mse: 0.6203 - rmse: 0.7510\n",
            "Epoch 42/100\n",
            "1200/1200 [==============================] - 83s 69ms/step - loss: 0.7513 - mae: 0.4939 - mse: 0.6197 - rmse: 0.7513\n",
            "Epoch 43/100\n",
            "1200/1200 [==============================] - 83s 69ms/step - loss: 0.7532 - mae: 0.4943 - mse: 0.6203 - rmse: 0.7532\n",
            "Epoch 44/100\n",
            "1200/1200 [==============================] - 83s 69ms/step - loss: 0.7499 - mae: 0.4938 - mse: 0.6202 - rmse: 0.7499\n",
            "Epoch 45/100\n",
            "1200/1200 [==============================] - 83s 69ms/step - loss: 0.7514 - mae: 0.4941 - mse: 0.6194 - rmse: 0.7514\n",
            "Epoch 46/100\n",
            "1200/1200 [==============================] - 83s 69ms/step - loss: 0.7512 - mae: 0.4933 - mse: 0.6196 - rmse: 0.7514\n",
            "Epoch 47/100\n",
            "1200/1200 [==============================] - 83s 69ms/step - loss: 0.7515 - mae: 0.4933 - mse: 0.6183 - rmse: 0.7515\n",
            "Epoch 48/100\n",
            "1200/1200 [==============================] - 84s 70ms/step - loss: 0.7511 - mae: 0.4947 - mse: 0.6189 - rmse: 0.7511\n",
            "Epoch 49/100\n",
            "1200/1200 [==============================] - 83s 69ms/step - loss: 0.7524 - mae: 0.4935 - mse: 0.6199 - rmse: 0.7526\n",
            "Epoch 50/100\n",
            "1200/1200 [==============================] - 83s 69ms/step - loss: 0.7518 - mae: 0.4943 - mse: 0.6198 - rmse: 0.7519\n",
            "Epoch 51/100\n",
            "1200/1200 [==============================] - 83s 69ms/step - loss: 0.7540 - mae: 0.4945 - mse: 0.6215 - rmse: 0.7540\n",
            "Epoch 52/100\n",
            "1200/1200 [==============================] - 83s 69ms/step - loss: 0.7502 - mae: 0.4924 - mse: 0.6174 - rmse: 0.7501\n",
            "Epoch 53/100\n",
            "1200/1200 [==============================] - 83s 69ms/step - loss: 0.7552 - mae: 0.4950 - mse: 0.6227 - rmse: 0.7553\n",
            "Epoch 54/100\n",
            "1200/1200 [==============================] - 83s 69ms/step - loss: 0.7535 - mae: 0.4953 - mse: 0.6207 - rmse: 0.7535\n",
            "Epoch 55/100\n",
            "1200/1200 [==============================] - 83s 69ms/step - loss: 0.7509 - mae: 0.4935 - mse: 0.6170 - rmse: 0.7508\n",
            "Epoch 56/100\n",
            "1200/1200 [==============================] - 83s 69ms/step - loss: 0.7539 - mae: 0.4939 - mse: 0.6207 - rmse: 0.7540\n",
            "Epoch 57/100\n",
            "1200/1200 [==============================] - 83s 69ms/step - loss: 0.7521 - mae: 0.4928 - mse: 0.6182 - rmse: 0.7521\n",
            "Epoch 58/100\n",
            "1200/1200 [==============================] - 83s 69ms/step - loss: 0.7521 - mae: 0.4936 - mse: 0.6192 - rmse: 0.7522\n",
            "Epoch 59/100\n",
            "1200/1200 [==============================] - 83s 69ms/step - loss: 0.7527 - mae: 0.4945 - mse: 0.6201 - rmse: 0.7527\n",
            "Epoch 60/100\n",
            "1200/1200 [==============================] - 83s 69ms/step - loss: 0.7522 - mae: 0.4945 - mse: 0.6183 - rmse: 0.7523\n",
            "Epoch 61/100\n",
            "1200/1200 [==============================] - 83s 69ms/step - loss: 0.7509 - mae: 0.4932 - mse: 0.6192 - rmse: 0.7509\n",
            "Epoch 62/100\n",
            "1200/1200 [==============================] - 83s 69ms/step - loss: 0.7502 - mae: 0.4931 - mse: 0.6172 - rmse: 0.7501\n",
            "Epoch 63/100\n",
            "1200/1200 [==============================] - 83s 69ms/step - loss: 0.7504 - mae: 0.4940 - mse: 0.6209 - rmse: 0.7505\n",
            "Epoch 64/100\n",
            "1200/1200 [==============================] - 83s 69ms/step - loss: 0.7473 - mae: 0.4912 - mse: 0.6156 - rmse: 0.7473\n",
            "Epoch 65/100\n",
            "1200/1200 [==============================] - 83s 69ms/step - loss: 0.7517 - mae: 0.4937 - mse: 0.6173 - rmse: 0.7517\n",
            "Epoch 66/100\n",
            "1200/1200 [==============================] - 83s 69ms/step - loss: 0.7512 - mae: 0.4942 - mse: 0.6194 - rmse: 0.7512\n",
            "Epoch 67/100\n",
            "1200/1200 [==============================] - 83s 69ms/step - loss: 0.7496 - mae: 0.4912 - mse: 0.6161 - rmse: 0.7495\n",
            "Epoch 68/100\n",
            "1200/1200 [==============================] - 83s 69ms/step - loss: 0.7489 - mae: 0.4920 - mse: 0.6180 - rmse: 0.7489\n",
            "Epoch 69/100\n",
            "1200/1200 [==============================] - 83s 69ms/step - loss: 0.7502 - mae: 0.4930 - mse: 0.6178 - rmse: 0.7503\n",
            "Epoch 70/100\n",
            "1200/1200 [==============================] - 84s 70ms/step - loss: 0.7528 - mae: 0.4944 - mse: 0.6192 - rmse: 0.7527\n",
            "Epoch 71/100\n",
            "1200/1200 [==============================] - 85s 70ms/step - loss: 0.7480 - mae: 0.4917 - mse: 0.6160 - rmse: 0.7479\n",
            "Epoch 72/100\n",
            "1200/1200 [==============================] - 84s 70ms/step - loss: 0.7527 - mae: 0.4938 - mse: 0.6185 - rmse: 0.7527\n",
            "Epoch 73/100\n",
            "1200/1200 [==============================] - 85s 71ms/step - loss: 0.7521 - mae: 0.4935 - mse: 0.6170 - rmse: 0.7521\n",
            "Epoch 74/100\n",
            "1200/1200 [==============================] - 85s 71ms/step - loss: 0.7530 - mae: 0.4946 - mse: 0.6225 - rmse: 0.7530\n",
            "Epoch 75/100\n",
            "1200/1200 [==============================] - 85s 71ms/step - loss: 0.7498 - mae: 0.4927 - mse: 0.6166 - rmse: 0.7497\n",
            "Epoch 76/100\n",
            "1200/1200 [==============================] - 84s 70ms/step - loss: 0.7489 - mae: 0.4916 - mse: 0.6145 - rmse: 0.7490\n",
            "Epoch 77/100\n",
            "1200/1200 [==============================] - 85s 71ms/step - loss: 0.7510 - mae: 0.4943 - mse: 0.6168 - rmse: 0.7509\n",
            "Epoch 78/100\n",
            "1200/1200 [==============================] - 85s 71ms/step - loss: 0.7512 - mae: 0.4931 - mse: 0.6177 - rmse: 0.7512\n",
            "Epoch 79/100\n",
            "1200/1200 [==============================] - 85s 71ms/step - loss: 0.7511 - mae: 0.4941 - mse: 0.6177 - rmse: 0.7511\n",
            "Epoch 80/100\n",
            "1200/1200 [==============================] - 85s 71ms/step - loss: 0.7511 - mae: 0.4935 - mse: 0.6163 - rmse: 0.7511\n",
            "Epoch 81/100\n",
            "1200/1200 [==============================] - 85s 71ms/step - loss: 0.7525 - mae: 0.4943 - mse: 0.6177 - rmse: 0.7525\n",
            "Epoch 82/100\n",
            "1200/1200 [==============================] - 85s 71ms/step - loss: 0.7509 - mae: 0.4934 - mse: 0.6175 - rmse: 0.7509\n",
            "Epoch 83/100\n",
            "1200/1200 [==============================] - 85s 71ms/step - loss: 0.7519 - mae: 0.4944 - mse: 0.6184 - rmse: 0.7520\n",
            "Epoch 84/100\n",
            "1200/1200 [==============================] - 85s 71ms/step - loss: 0.7491 - mae: 0.4929 - mse: 0.6170 - rmse: 0.7491\n",
            "Epoch 85/100\n",
            "1200/1200 [==============================] - 85s 71ms/step - loss: 0.7497 - mae: 0.4933 - mse: 0.6188 - rmse: 0.7498\n",
            "Epoch 86/100\n",
            "1200/1200 [==============================] - 85s 71ms/step - loss: 0.7503 - mae: 0.4925 - mse: 0.6167 - rmse: 0.7504\n",
            "Epoch 87/100\n",
            "1200/1200 [==============================] - 85s 70ms/step - loss: 0.7521 - mae: 0.4937 - mse: 0.6177 - rmse: 0.7521\n",
            "Epoch 88/100\n",
            "1200/1200 [==============================] - 85s 70ms/step - loss: 0.7501 - mae: 0.4944 - mse: 0.6160 - rmse: 0.7501\n",
            "Epoch 89/100\n",
            "1200/1200 [==============================] - 85s 71ms/step - loss: 0.7505 - mae: 0.4939 - mse: 0.6192 - rmse: 0.7505\n",
            "Epoch 90/100\n",
            "1200/1200 [==============================] - 84s 70ms/step - loss: 0.7512 - mae: 0.4939 - mse: 0.6181 - rmse: 0.7512\n",
            "Epoch 91/100\n",
            "1200/1200 [==============================] - 84s 70ms/step - loss: 0.7533 - mae: 0.4944 - mse: 0.6180 - rmse: 0.7533\n",
            "Epoch 92/100\n",
            "1200/1200 [==============================] - 85s 71ms/step - loss: 0.7503 - mae: 0.4931 - mse: 0.6168 - rmse: 0.7502\n",
            "Epoch 93/100\n",
            "1200/1200 [==============================] - 84s 70ms/step - loss: 0.7519 - mae: 0.4944 - mse: 0.6192 - rmse: 0.7518\n",
            "Epoch 94/100\n",
            "1200/1200 [==============================] - 85s 71ms/step - loss: 0.7530 - mae: 0.4952 - mse: 0.6191 - rmse: 0.7530\n",
            "Epoch 95/100\n",
            "1200/1200 [==============================] - 85s 71ms/step - loss: 0.7507 - mae: 0.4946 - mse: 0.6203 - rmse: 0.7507\n",
            "Epoch 96/100\n",
            "1200/1200 [==============================] - 85s 70ms/step - loss: 0.7522 - mae: 0.4944 - mse: 0.6188 - rmse: 0.7522\n",
            "Epoch 97/100\n",
            "1200/1200 [==============================] - 84s 70ms/step - loss: 0.7492 - mae: 0.4929 - mse: 0.6169 - rmse: 0.7491\n",
            "Epoch 98/100\n",
            "1200/1200 [==============================] - 85s 70ms/step - loss: 0.7516 - mae: 0.4954 - mse: 0.6194 - rmse: 0.7515\n",
            "Epoch 99/100\n",
            "1200/1200 [==============================] - 84s 70ms/step - loss: 0.7512 - mae: 0.4946 - mse: 0.6172 - rmse: 0.7512\n",
            "Epoch 100/100\n",
            "1200/1200 [==============================] - 85s 71ms/step - loss: 0.7515 - mae: 0.4941 - mse: 0.6198 - rmse: 0.7514\n"
          ]
        },
        {
          "output_type": "execute_result",
          "data": {
            "text/plain": [
              "<keras.callbacks.History at 0x7f34493b32b0>"
            ]
          },
          "metadata": {},
          "execution_count": 14
        }
      ]
    },
    {
      "cell_type": "code",
      "source": [
        "y_test = np.array(y_test)\n",
        "predictions = model.predict(x_test)\n",
        "print(\"RMSE: \", rmse(y_test, predictions).numpy())\n",
        "print(\"MAE: \", mean_absolute_error(y_test, predictions))\n",
        "print(\"MSE: \", mean_squared_error(y_test, predictions))"
      ],
      "metadata": {
        "colab": {
          "base_uri": "https://localhost:8080/"
        },
        "id": "FleBw-2S_DOR",
        "outputId": "0c0ddc3f-7224-47e0-d4df-cdff22830d1f"
      },
      "execution_count": null,
      "outputs": [
        {
          "output_type": "stream",
          "name": "stdout",
          "text": [
            "300/300 [==============================] - 21s 67ms/step\n",
            "RMSE:  1.139733841987556\n",
            "MAE:  0.4745842661057454\n",
            "MSE:  0.5842067862471113\n"
          ]
        }
      ]
    },
    {
      "cell_type": "code",
      "source": [
        "def test(text):\n",
        "  print(\"Text Toxicity level: \", model.predict(text, verbose = 0 )[0][0])\n",
        "print(test([\"he is nice\"]))\n",
        "print(test([\"I want to kick his ass this stupid idiot\"]))\n",
        "print(test([\"he is so fucking fat and dumbass\"]))\n",
        "print(test([\"you are so lovely\"]))"
      ],
      "metadata": {
        "colab": {
          "base_uri": "https://localhost:8080/"
        },
        "id": "_d1Qd33e_gdU",
        "outputId": "084f823a-8af2-4e90-e7bc-59e056d9a251"
      },
      "execution_count": null,
      "outputs": [
        {
          "output_type": "stream",
          "name": "stdout",
          "text": [
            "Text Toxicity level:  0.2873905\n",
            "None\n",
            "Text Toxicity level:  1.162678\n",
            "None\n",
            "Text Toxicity level:  1.9665953\n",
            "None\n",
            "Text Toxicity level:  0.76916987\n",
            "None\n"
          ]
        }
      ]
    },
    {
      "cell_type": "code",
      "source": [],
      "metadata": {
        "id": "HBq_ids_g_uD"
      },
      "execution_count": null,
      "outputs": []
    }
  ]
}